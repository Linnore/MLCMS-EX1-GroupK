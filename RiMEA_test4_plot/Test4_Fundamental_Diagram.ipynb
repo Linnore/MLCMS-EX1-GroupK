{
 "cells": [
  {
   "cell_type": "code",
   "execution_count": 1,
   "id": "d83922b4",
   "metadata": {},
   "outputs": [],
   "source": [
    "import matplotlib.pyplot as plt"
   ]
  },
  {
   "cell_type": "markdown",
   "id": "932e08b6",
   "metadata": {},
   "source": [
    "#### Get results from test 4:"
   ]
  },
  {
   "cell_type": "code",
   "execution_count": 19,
   "id": "ec1df86c",
   "metadata": {},
   "outputs": [],
   "source": [
    "density_list = [0.5, 1.0, 2.0, 3.0, 4.0, 4.5, 5.0, 6.0, 6.5, 7.0, 8.0, 9.0]\n",
    "numOfPd = []\n",
    "avgSpeed = []\n",
    "for density in density_list:\n",
    "    with open(r\".\\Test4_results\"+str(density)+\".txt\") as input:\n",
    "        numOfPd.append(int(input.readline().split(\" \")[9]))\n",
    "        avgline = input.readline().split(\" \")\n",
    "        avgSpeed.append(float(avgline[2][0:-4]))"
   ]
  },
  {
   "cell_type": "markdown",
   "id": "a25f4ab8",
   "metadata": {},
   "source": [
    "#### Compute flow under different density:"
   ]
  },
  {
   "cell_type": "code",
   "execution_count": 20,
   "id": "451e9019",
   "metadata": {},
   "outputs": [
    {
     "name": "stdout",
     "output_type": "stream",
     "text": [
      "0.5 1.29 0.645\n",
      "1.0 1.3 1.3\n",
      "2.0 1.22 2.44\n",
      "3.0 0.91 2.73\n",
      "4.0 0.79 3.16\n",
      "4.5 0.68 3.06\n",
      "5.0 0.55 2.75\n",
      "6.0 0.5 3.0\n",
      "6.5 0.39 2.535\n",
      "7.0 0.38 2.66\n",
      "8.0 0.29 2.32\n",
      "9.0 0.3 2.6999999999999997\n"
     ]
    }
   ],
   "source": [
    "flow = []\n",
    "for i in range(len(density_list)):\n",
    "    flow.append(density_list[i]*avgSpeed[i])\n",
    "    print(density_list[i], avgSpeed[i], flow[i])\n",
    "flow.insert(0 ,0)\n",
    "density_list.insert(0, 0)"
   ]
  },
  {
   "cell_type": "markdown",
   "id": "754d83c5",
   "metadata": {},
   "source": [
    "#### Plot the fundamental diagram:"
   ]
  },
  {
   "cell_type": "code",
   "execution_count": 21,
   "id": "a2b46722",
   "metadata": {},
   "outputs": [
    {
     "data": {
      "image/png": "[encoded data removed]",
      "text/plain": [
       "<Figure size 432x288 with 1 Axes>"
      ]
     },
     "metadata": {
      "needs_background": "light"
     },
     "output_type": "display_data"
    }
   ],
   "source": [
    "plt.plot(density_list, flow)\n",
    "\n",
    "#plt.rc('text', usetex=True)\n",
    "\n",
    "plt.title(\"Fundamental Diagram\")\n",
    "plt.xlabel(\"Density $P/m^2$\")\n",
    "plt.ylabel(\"Flow P/s\")\n",
    "plt.grid()\n",
    "\n",
    "plt.savefig(\"Fundamental_Diagram\")\n",
    "plt.show()\n",
    "\n"
   ]
  },
  {
   "cell_type": "code",
   "execution_count": null,
   "id": "2ca158e5",
   "metadata": {},
   "outputs": [],
   "source": []
  }
 ],
 "metadata": {
  "kernelspec": {
   "display_name": "Python 3",
   "language": "python",
   "name": "python3"
  },
  "language_info": {
   "codemirror_mode": {
    "name": "ipython",
    "version": 3
   },
   "file_extension": ".py",
   "mimetype": "text/x-python",
   "name": "python",
   "nbconvert_exporter": "python",
   "pygments_lexer": "ipython3",
   "version": "3.8.8"
  }
 },
 "nbformat": 4,
 "nbformat_minor": 5
}
